{
 "cells": [
  {
   "cell_type": "markdown",
   "id": "e43656d4",
   "metadata": {},
   "source": [
    "## Importando Bibliotecas"
   ]
  },
  {
   "cell_type": "code",
   "execution_count": null,
   "id": "7e9963a3",
   "metadata": {
    "scrolled": true
   },
   "outputs": [],
   "source": [
    "import pygame\n",
    "import os"
   ]
  },
  {
   "cell_type": "code",
   "execution_count": null,
   "id": "acb3fe1f",
   "metadata": {},
   "outputs": [],
   "source": [
    "class Game:\n",
    "    def __init__(self):\n",
    "        self.width = 700\n",
    "        self.height = 700\n",
    "        self.window = pygame.display.set_mode((self.width, self.height))\n",
    "        self.allies = []\n",
    "        self.enemies = []\n",
    "        self.lives = 5\n",
    "        self.money = 200\n",
    "        self.bg = pygame.image.load(os.path.join(os.path.join('game_assets', 'pixel_chess'), os.path.join('boards', 'board_plain_04_modified.png')))\n",
    "        self.bg = pygame.transform.scale(self.bg, (700, 700))\n",
    "        \n",
    "    def run(self):\n",
    "        running = True\n",
    "        clock = pygame.time.Clock()\n",
    "        while running:\n",
    "            clock.tick(60)\n",
    "            for event in pygame.event.get():\n",
    "                if event.type == pygame.QUIT:\n",
    "                    running = False\n",
    "                    \n",
    "                pos = pygame.mouse.get_pos()\n",
    "                \n",
    "                if event.type == pygame.MOUSEBUTTONDOWN:\n",
    "                    print(pos)\n",
    "            self.draw()\n",
    "        \n",
    "        pygame.quit()\n",
    "        \n",
    "    def draw(self):\n",
    "        self.window.blit(self.bg, (0, 0))\n",
    "        pygame.display.update()"
   ]
  },
  {
   "cell_type": "code",
   "execution_count": null,
   "id": "5786cb65",
   "metadata": {},
   "outputs": [],
   "source": [
    "class Enemy:\n",
    "    imgs = []\n",
    "    \n",
    "    def __init__(self, x, y, width, height):\n",
    "        self.x = x\n",
    "        self.y = y\n",
    "        self.width = 0\n",
    "        self.height = 0\n",
    "        self.animation_count = 0\n",
    "        self.health = 2\n",
    "        self.path = []\n",
    "        self.img = None\n",
    "    \n",
    "    def draw(self, window):\n",
    "        '''\n",
    "        Draws the enemy with the given images.\n",
    "        '''\n",
    "        self.animation_count +=1\n",
    "        self.img = self.imgs[self.animation_count]\n",
    "        \n",
    "        if self.animation_count >= len(self.imgs):\n",
    "            self.animation_count = 0\n",
    "            \n",
    "        window.blit(self.img, (self.x, self.y))\n",
    "        self.move()\n",
    "        \n",
    "    def collide(self, X, Y):\n",
    "        '''\n",
    "        Returns if position has hit enemy.\n",
    "        '''\n",
    "        \n",
    "        if X <= self.x + self.width and X >= self.x:\n",
    "            if Y <= self.y + self.height and Y >= self.y:\n",
    "                return True        \n",
    "        return False\n",
    "        \n",
    "    def move(self):\n",
    "        '''\n",
    "        Moves enemy.\n",
    "        '''\n",
    "        \n",
    "        pass\n",
    "    \n",
    "    def hit(self):\n",
    "        '''\n",
    "        Returns if an enemy has died and for each call removes 1 HP.\n",
    "        '''\n",
    "        self.health -= 1\n",
    "        if self.health <= 0:\n",
    "            return True"
   ]
  },
  {
   "cell_type": "code",
   "execution_count": null,
   "id": "ab1c65f6",
   "metadata": {
    "scrolled": true
   },
   "outputs": [],
   "source": [
    "g = Game()\n",
    "g.run()"
   ]
  },
  {
   "cell_type": "code",
   "execution_count": null,
   "id": "81806c48",
   "metadata": {},
   "outputs": [],
   "source": []
  }
 ],
 "metadata": {
  "kernelspec": {
   "display_name": "Python 3 (ipykernel)",
   "language": "python",
   "name": "python3"
  },
  "language_info": {
   "codemirror_mode": {
    "name": "ipython",
    "version": 3
   },
   "file_extension": ".py",
   "mimetype": "text/x-python",
   "name": "python",
   "nbconvert_exporter": "python",
   "pygments_lexer": "ipython3",
   "version": "3.11.1"
  }
 },
 "nbformat": 4,
 "nbformat_minor": 5
}
